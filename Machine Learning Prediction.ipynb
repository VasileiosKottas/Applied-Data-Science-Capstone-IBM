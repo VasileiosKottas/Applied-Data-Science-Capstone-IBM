{
 "cells": [
  {
   "cell_type": "markdown",
   "metadata": {},
   "source": [
    "# Machine Learning Prediction"
   ]
  },
  {
   "cell_type": "code",
   "execution_count": 22,
   "metadata": {},
   "outputs": [],
   "source": [
    "# Pandas is a software library written for the Python programming language for data manipulation and analysis.\n",
    "import pandas as pd\n",
    "# NumPy is a library for the Python programming language, adding support for large, multi-dimensional arrays and matrices, along with a large collection of high-level mathematical functions to operate on these arrays\n",
    "import numpy as np\n",
    "# Matplotlib is a plotting library for python and pyplot gives us a MatLab like plotting framework. We will use this in our plotter function to plot data.\n",
    "import matplotlib.pyplot as plt\n",
    "#Seaborn is a Python data visualization library based on matplotlib. It provides a high-level interface for drawing attractive and informative statistical graphics\n",
    "import seaborn as sns\n",
    "# Preprocessing allows us to standarsize our data\n",
    "from sklearn import preprocessing\n",
    "# Allows us to split our data into training and testing data\n",
    "from sklearn.model_selection import train_test_split\n",
    "# Allows us to test parameters of classification algorithms and find the best one\n",
    "from sklearn.model_selection import GridSearchCV\n",
    "# Logistic Regression classification algorithm\n",
    "from sklearn.linear_model import LogisticRegression\n",
    "# Support Vector Machine classification algorithm\n",
    "from sklearn.svm import SVC\n",
    "# Decision Tree classification algorithm\n",
    "from sklearn.tree import DecisionTreeClassifier\n",
    "# K Nearest Neighbors classification algorithm\n",
    "from sklearn.neighbors import KNeighborsClassifier"
   ]
  },
  {
   "cell_type": "code",
   "execution_count": 23,
   "metadata": {},
   "outputs": [],
   "source": [
    "def plot_confusion_matrix(y,y_predict):\n",
    "    \"this function plots the confusion matrix\"\n",
    "    from sklearn.metrics import confusion_matrix\n",
    "\n",
    "    cm = confusion_matrix(y, y_predict)\n",
    "    ax= plt.subplot()\n",
    "    sns.heatmap(cm, annot=True, ax = ax); #annot=True to annotate cells\n",
    "    ax.set_xlabel('Predicted labels')\n",
    "    ax.set_ylabel('True labels')\n",
    "    ax.set_title('Confusion Matrix'); \n",
    "    ax.xaxis.set_ticklabels(['did not land', 'land']); ax.yaxis.set_ticklabels(['did not land', 'landed']) \n",
    "    plt.show() "
   ]
  },
  {
   "cell_type": "code",
   "execution_count": 24,
   "metadata": {},
   "outputs": [
    {
     "data": {
      "text/html": [
       "<div>\n",
       "<style scoped>\n",
       "    .dataframe tbody tr th:only-of-type {\n",
       "        vertical-align: middle;\n",
       "    }\n",
       "\n",
       "    .dataframe tbody tr th {\n",
       "        vertical-align: top;\n",
       "    }\n",
       "\n",
       "    .dataframe thead th {\n",
       "        text-align: right;\n",
       "    }\n",
       "</style>\n",
       "<table border=\"1\" class=\"dataframe\">\n",
       "  <thead>\n",
       "    <tr style=\"text-align: right;\">\n",
       "      <th></th>\n",
       "      <th>FlightNumber</th>\n",
       "      <th>Date</th>\n",
       "      <th>BoosterVersion</th>\n",
       "      <th>PayloadMass</th>\n",
       "      <th>Orbit</th>\n",
       "      <th>LaunchSite</th>\n",
       "      <th>Outcome</th>\n",
       "      <th>Flights</th>\n",
       "      <th>GridFins</th>\n",
       "      <th>Reused</th>\n",
       "      <th>Legs</th>\n",
       "      <th>LandingPad</th>\n",
       "      <th>Block</th>\n",
       "      <th>ReusedCount</th>\n",
       "      <th>Serial</th>\n",
       "      <th>Longitude</th>\n",
       "      <th>Latitude</th>\n",
       "      <th>Class</th>\n",
       "    </tr>\n",
       "  </thead>\n",
       "  <tbody>\n",
       "    <tr>\n",
       "      <th>0</th>\n",
       "      <td>1</td>\n",
       "      <td>2010-06-04</td>\n",
       "      <td>Falcon 9</td>\n",
       "      <td>6104.959412</td>\n",
       "      <td>LEO</td>\n",
       "      <td>CCAFS SLC 40</td>\n",
       "      <td>None None</td>\n",
       "      <td>1</td>\n",
       "      <td>False</td>\n",
       "      <td>False</td>\n",
       "      <td>False</td>\n",
       "      <td>NaN</td>\n",
       "      <td>1.0</td>\n",
       "      <td>0</td>\n",
       "      <td>B0003</td>\n",
       "      <td>-80.577366</td>\n",
       "      <td>28.561857</td>\n",
       "      <td>0</td>\n",
       "    </tr>\n",
       "    <tr>\n",
       "      <th>1</th>\n",
       "      <td>2</td>\n",
       "      <td>2012-05-22</td>\n",
       "      <td>Falcon 9</td>\n",
       "      <td>525.000000</td>\n",
       "      <td>LEO</td>\n",
       "      <td>CCAFS SLC 40</td>\n",
       "      <td>None None</td>\n",
       "      <td>1</td>\n",
       "      <td>False</td>\n",
       "      <td>False</td>\n",
       "      <td>False</td>\n",
       "      <td>NaN</td>\n",
       "      <td>1.0</td>\n",
       "      <td>0</td>\n",
       "      <td>B0005</td>\n",
       "      <td>-80.577366</td>\n",
       "      <td>28.561857</td>\n",
       "      <td>0</td>\n",
       "    </tr>\n",
       "    <tr>\n",
       "      <th>2</th>\n",
       "      <td>3</td>\n",
       "      <td>2013-03-01</td>\n",
       "      <td>Falcon 9</td>\n",
       "      <td>677.000000</td>\n",
       "      <td>ISS</td>\n",
       "      <td>CCAFS SLC 40</td>\n",
       "      <td>None None</td>\n",
       "      <td>1</td>\n",
       "      <td>False</td>\n",
       "      <td>False</td>\n",
       "      <td>False</td>\n",
       "      <td>NaN</td>\n",
       "      <td>1.0</td>\n",
       "      <td>0</td>\n",
       "      <td>B0007</td>\n",
       "      <td>-80.577366</td>\n",
       "      <td>28.561857</td>\n",
       "      <td>0</td>\n",
       "    </tr>\n",
       "    <tr>\n",
       "      <th>3</th>\n",
       "      <td>4</td>\n",
       "      <td>2013-09-29</td>\n",
       "      <td>Falcon 9</td>\n",
       "      <td>500.000000</td>\n",
       "      <td>PO</td>\n",
       "      <td>VAFB SLC 4E</td>\n",
       "      <td>False Ocean</td>\n",
       "      <td>1</td>\n",
       "      <td>False</td>\n",
       "      <td>False</td>\n",
       "      <td>False</td>\n",
       "      <td>NaN</td>\n",
       "      <td>1.0</td>\n",
       "      <td>0</td>\n",
       "      <td>B1003</td>\n",
       "      <td>-120.610829</td>\n",
       "      <td>34.632093</td>\n",
       "      <td>0</td>\n",
       "    </tr>\n",
       "    <tr>\n",
       "      <th>4</th>\n",
       "      <td>5</td>\n",
       "      <td>2013-12-03</td>\n",
       "      <td>Falcon 9</td>\n",
       "      <td>3170.000000</td>\n",
       "      <td>GTO</td>\n",
       "      <td>CCAFS SLC 40</td>\n",
       "      <td>None None</td>\n",
       "      <td>1</td>\n",
       "      <td>False</td>\n",
       "      <td>False</td>\n",
       "      <td>False</td>\n",
       "      <td>NaN</td>\n",
       "      <td>1.0</td>\n",
       "      <td>0</td>\n",
       "      <td>B1004</td>\n",
       "      <td>-80.577366</td>\n",
       "      <td>28.561857</td>\n",
       "      <td>0</td>\n",
       "    </tr>\n",
       "  </tbody>\n",
       "</table>\n",
       "</div>"
      ],
      "text/plain": [
       "   FlightNumber        Date BoosterVersion  PayloadMass Orbit    LaunchSite  \\\n",
       "0             1  2010-06-04       Falcon 9  6104.959412   LEO  CCAFS SLC 40   \n",
       "1             2  2012-05-22       Falcon 9   525.000000   LEO  CCAFS SLC 40   \n",
       "2             3  2013-03-01       Falcon 9   677.000000   ISS  CCAFS SLC 40   \n",
       "3             4  2013-09-29       Falcon 9   500.000000    PO   VAFB SLC 4E   \n",
       "4             5  2013-12-03       Falcon 9  3170.000000   GTO  CCAFS SLC 40   \n",
       "\n",
       "       Outcome  Flights  GridFins  Reused   Legs LandingPad  Block  \\\n",
       "0    None None        1     False   False  False        NaN    1.0   \n",
       "1    None None        1     False   False  False        NaN    1.0   \n",
       "2    None None        1     False   False  False        NaN    1.0   \n",
       "3  False Ocean        1     False   False  False        NaN    1.0   \n",
       "4    None None        1     False   False  False        NaN    1.0   \n",
       "\n",
       "   ReusedCount Serial   Longitude   Latitude  Class  \n",
       "0            0  B0003  -80.577366  28.561857      0  \n",
       "1            0  B0005  -80.577366  28.561857      0  \n",
       "2            0  B0007  -80.577366  28.561857      0  \n",
       "3            0  B1003 -120.610829  34.632093      0  \n",
       "4            0  B1004  -80.577366  28.561857      0  "
      ]
     },
     "execution_count": 24,
     "metadata": {},
     "output_type": "execute_result"
    }
   ],
   "source": [
    "data = pd.read_csv('dataset_part_2.csv')\n",
    "data.head()"
   ]
  },
  {
   "cell_type": "code",
   "execution_count": 25,
   "metadata": {},
   "outputs": [
    {
     "data": {
      "text/html": [
       "<div>\n",
       "<style scoped>\n",
       "    .dataframe tbody tr th:only-of-type {\n",
       "        vertical-align: middle;\n",
       "    }\n",
       "\n",
       "    .dataframe tbody tr th {\n",
       "        vertical-align: top;\n",
       "    }\n",
       "\n",
       "    .dataframe thead th {\n",
       "        text-align: right;\n",
       "    }\n",
       "</style>\n",
       "<table border=\"1\" class=\"dataframe\">\n",
       "  <thead>\n",
       "    <tr style=\"text-align: right;\">\n",
       "      <th></th>\n",
       "      <th>FlightNumber</th>\n",
       "      <th>PayloadMass</th>\n",
       "      <th>Flights</th>\n",
       "      <th>GridFins</th>\n",
       "      <th>Reused</th>\n",
       "      <th>Legs</th>\n",
       "      <th>Block</th>\n",
       "      <th>ReusedCount</th>\n",
       "      <th>Orbit_ES-L1</th>\n",
       "      <th>Orbit_GEO</th>\n",
       "      <th>...</th>\n",
       "      <th>Serial_B1048</th>\n",
       "      <th>Serial_B1049</th>\n",
       "      <th>Serial_B1050</th>\n",
       "      <th>Serial_B1051</th>\n",
       "      <th>Serial_B1054</th>\n",
       "      <th>Serial_B1056</th>\n",
       "      <th>Serial_B1058</th>\n",
       "      <th>Serial_B1059</th>\n",
       "      <th>Serial_B1060</th>\n",
       "      <th>Serial_B1062</th>\n",
       "    </tr>\n",
       "  </thead>\n",
       "  <tbody>\n",
       "    <tr>\n",
       "      <th>0</th>\n",
       "      <td>1</td>\n",
       "      <td>6104.959412</td>\n",
       "      <td>1</td>\n",
       "      <td>False</td>\n",
       "      <td>False</td>\n",
       "      <td>False</td>\n",
       "      <td>1.0</td>\n",
       "      <td>0</td>\n",
       "      <td>0</td>\n",
       "      <td>0</td>\n",
       "      <td>...</td>\n",
       "      <td>0</td>\n",
       "      <td>0</td>\n",
       "      <td>0</td>\n",
       "      <td>0</td>\n",
       "      <td>0</td>\n",
       "      <td>0</td>\n",
       "      <td>0</td>\n",
       "      <td>0</td>\n",
       "      <td>0</td>\n",
       "      <td>0</td>\n",
       "    </tr>\n",
       "    <tr>\n",
       "      <th>1</th>\n",
       "      <td>2</td>\n",
       "      <td>525.000000</td>\n",
       "      <td>1</td>\n",
       "      <td>False</td>\n",
       "      <td>False</td>\n",
       "      <td>False</td>\n",
       "      <td>1.0</td>\n",
       "      <td>0</td>\n",
       "      <td>0</td>\n",
       "      <td>0</td>\n",
       "      <td>...</td>\n",
       "      <td>0</td>\n",
       "      <td>0</td>\n",
       "      <td>0</td>\n",
       "      <td>0</td>\n",
       "      <td>0</td>\n",
       "      <td>0</td>\n",
       "      <td>0</td>\n",
       "      <td>0</td>\n",
       "      <td>0</td>\n",
       "      <td>0</td>\n",
       "    </tr>\n",
       "    <tr>\n",
       "      <th>2</th>\n",
       "      <td>3</td>\n",
       "      <td>677.000000</td>\n",
       "      <td>1</td>\n",
       "      <td>False</td>\n",
       "      <td>False</td>\n",
       "      <td>False</td>\n",
       "      <td>1.0</td>\n",
       "      <td>0</td>\n",
       "      <td>0</td>\n",
       "      <td>0</td>\n",
       "      <td>...</td>\n",
       "      <td>0</td>\n",
       "      <td>0</td>\n",
       "      <td>0</td>\n",
       "      <td>0</td>\n",
       "      <td>0</td>\n",
       "      <td>0</td>\n",
       "      <td>0</td>\n",
       "      <td>0</td>\n",
       "      <td>0</td>\n",
       "      <td>0</td>\n",
       "    </tr>\n",
       "    <tr>\n",
       "      <th>3</th>\n",
       "      <td>4</td>\n",
       "      <td>500.000000</td>\n",
       "      <td>1</td>\n",
       "      <td>False</td>\n",
       "      <td>False</td>\n",
       "      <td>False</td>\n",
       "      <td>1.0</td>\n",
       "      <td>0</td>\n",
       "      <td>0</td>\n",
       "      <td>0</td>\n",
       "      <td>...</td>\n",
       "      <td>0</td>\n",
       "      <td>0</td>\n",
       "      <td>0</td>\n",
       "      <td>0</td>\n",
       "      <td>0</td>\n",
       "      <td>0</td>\n",
       "      <td>0</td>\n",
       "      <td>0</td>\n",
       "      <td>0</td>\n",
       "      <td>0</td>\n",
       "    </tr>\n",
       "    <tr>\n",
       "      <th>4</th>\n",
       "      <td>5</td>\n",
       "      <td>3170.000000</td>\n",
       "      <td>1</td>\n",
       "      <td>False</td>\n",
       "      <td>False</td>\n",
       "      <td>False</td>\n",
       "      <td>1.0</td>\n",
       "      <td>0</td>\n",
       "      <td>0</td>\n",
       "      <td>0</td>\n",
       "      <td>...</td>\n",
       "      <td>0</td>\n",
       "      <td>0</td>\n",
       "      <td>0</td>\n",
       "      <td>0</td>\n",
       "      <td>0</td>\n",
       "      <td>0</td>\n",
       "      <td>0</td>\n",
       "      <td>0</td>\n",
       "      <td>0</td>\n",
       "      <td>0</td>\n",
       "    </tr>\n",
       "  </tbody>\n",
       "</table>\n",
       "<p>5 rows × 80 columns</p>\n",
       "</div>"
      ],
      "text/plain": [
       "   FlightNumber  PayloadMass  Flights  GridFins  Reused   Legs  Block  \\\n",
       "0             1  6104.959412        1     False   False  False    1.0   \n",
       "1             2   525.000000        1     False   False  False    1.0   \n",
       "2             3   677.000000        1     False   False  False    1.0   \n",
       "3             4   500.000000        1     False   False  False    1.0   \n",
       "4             5  3170.000000        1     False   False  False    1.0   \n",
       "\n",
       "   ReusedCount  Orbit_ES-L1  Orbit_GEO  ...  Serial_B1048  Serial_B1049  \\\n",
       "0            0            0          0  ...             0             0   \n",
       "1            0            0          0  ...             0             0   \n",
       "2            0            0          0  ...             0             0   \n",
       "3            0            0          0  ...             0             0   \n",
       "4            0            0          0  ...             0             0   \n",
       "\n",
       "   Serial_B1050  Serial_B1051  Serial_B1054  Serial_B1056  Serial_B1058  \\\n",
       "0             0             0             0             0             0   \n",
       "1             0             0             0             0             0   \n",
       "2             0             0             0             0             0   \n",
       "3             0             0             0             0             0   \n",
       "4             0             0             0             0             0   \n",
       "\n",
       "   Serial_B1059  Serial_B1060  Serial_B1062  \n",
       "0             0             0             0  \n",
       "1             0             0             0  \n",
       "2             0             0             0  \n",
       "3             0             0             0  \n",
       "4             0             0             0  \n",
       "\n",
       "[5 rows x 80 columns]"
      ]
     },
     "execution_count": 25,
     "metadata": {},
     "output_type": "execute_result"
    }
   ],
   "source": [
    "X = pd.read_csv('dataset_part_3.csv')\n",
    "X.head()"
   ]
  },
  {
   "cell_type": "markdown",
   "metadata": {},
   "source": [
    "## TASK  1\n"
   ]
  },
  {
   "cell_type": "code",
   "execution_count": 26,
   "metadata": {},
   "outputs": [],
   "source": [
    "y = data['Class'].to_numpy()"
   ]
  },
  {
   "cell_type": "markdown",
   "metadata": {},
   "source": [
    "## TASK  2\n"
   ]
  },
  {
   "cell_type": "code",
   "execution_count": 27,
   "metadata": {},
   "outputs": [],
   "source": [
    "transform = preprocessing.StandardScaler()\n",
    "\n",
    "X = transform.fit_transform(X)"
   ]
  },
  {
   "cell_type": "markdown",
   "metadata": {},
   "source": [
    "## TASK  3\n"
   ]
  },
  {
   "cell_type": "code",
   "execution_count": 28,
   "metadata": {},
   "outputs": [],
   "source": [
    "X_train, X_test, y_train, y_test = train_test_split(X, y, test_size=0.2, random_state=42)\n"
   ]
  },
  {
   "cell_type": "code",
   "execution_count": 29,
   "metadata": {},
   "outputs": [
    {
     "data": {
      "text/plain": [
       "(18,)"
      ]
     },
     "execution_count": 29,
     "metadata": {},
     "output_type": "execute_result"
    }
   ],
   "source": [
    "y_test.shape"
   ]
  },
  {
   "cell_type": "markdown",
   "metadata": {},
   "source": [
    "## TASK  4\n"
   ]
  },
  {
   "cell_type": "code",
   "execution_count": 30,
   "metadata": {},
   "outputs": [],
   "source": [
    "parameters ={'C':[0.01,0.1,1],\n",
    "             'penalty':['l2'],\n",
    "             'solver':['lbfgs']}"
   ]
  },
  {
   "cell_type": "code",
   "execution_count": 31,
   "metadata": {},
   "outputs": [
    {
     "name": "stdout",
     "output_type": "stream",
     "text": [
      "Best Parameters: {'C': 0.1, 'penalty': 'l2', 'solver': 'lbfgs'}\n",
      "Best Accuracy: 0.8303571428571427\n"
     ]
    }
   ],
   "source": [
    "lr = LogisticRegression()\n",
    "\n",
    "# Define the parameters dictionary\n",
    "parameters = {\n",
    "    'C': [0.01, 0.1, 1],\n",
    "    'penalty': ['l2'],\n",
    "    'solver': ['lbfgs']\n",
    "}\n",
    "\n",
    "# Create the GridSearchCV object\n",
    "logreg_cv = GridSearchCV(lr, parameters, cv=10)\n",
    "\n",
    "# Fit the GridSearchCV object to the data\n",
    "logreg_cv.fit(X_train, y_train)  # Assuming X_train and y_train are your training data\n",
    "\n",
    "# Output the best parameters and best score\n",
    "print(\"Best Parameters:\", logreg_cv.best_params_)\n",
    "print(\"Best Accuracy:\", logreg_cv.best_score_)"
   ]
  },
  {
   "cell_type": "markdown",
   "metadata": {},
   "source": [
    "## TASK  5\n"
   ]
  },
  {
   "cell_type": "code",
   "execution_count": 32,
   "metadata": {},
   "outputs": [],
   "source": [
    "lr_s = logreg_cv.score(X_test,y_test)"
   ]
  },
  {
   "cell_type": "code",
   "execution_count": 33,
   "metadata": {},
   "outputs": [
    {
     "data": {
      "image/png": "iVBORw0KGgoAAAANSUhEUgAAAhIAAAHFCAYAAACn7hC1AAAAOXRFWHRTb2Z0d2FyZQBNYXRwbG90bGliIHZlcnNpb24zLjcuMSwgaHR0cHM6Ly9tYXRwbG90bGliLm9yZy/bCgiHAAAACXBIWXMAAA9hAAAPYQGoP6dpAABE0klEQVR4nO3deZiN9f/H8deZ3WCGGduQYZBlbIOxRsg6SbQhLXYVxUSSVEPJoG8SxUQxikgLaSG7NjuTXaVhiGkiocGY5f794XJ+nWZo5riP+zg9H133dc353J/783kfV655+2y3zTAMQwAAAE7wsjoAAABw4yKRAAAATiORAAAATiORAAAATiORAAAATiORAAAATiORAAAATiORAAAATiORAAAATiORgEfbuXOn+vTpo4iICAUEBKhIkSKqX7++Jk2apD/++MOlfe/YsUMtW7ZUcHCwbDabpkyZYnofNptNY8aMMb3df5OYmCibzSabzaZ169blum8YhqpUqSKbzaZWrVo51cf06dOVmJhYoGfWrVt3xZgAuIaP1QEArjJr1iwNGjRI1apV04gRIxQZGanMzExt3bpVCQkJ2rBhgxYvXuyy/vv27av09HQtXLhQxYsXV8WKFU3vY8OGDbrppptMbze/ihYtqnfeeSdXsrB+/XodPHhQRYsWdbrt6dOnq0SJEurdu3e+n6lfv742bNigyMhIp/sFUDAkEvBIGzZs0GOPPaZ27dppyZIl8vf3t99r166dhg8fruXLl7s0ht27d2vAgAGKiYlxWR9NmjRxWdv50b17d82fP19vvvmmgoKC7OXvvPOOmjZtqjNnzlyXODIzM2Wz2RQUFGT5nwnwX8PUBjzS+PHjZbPZNHPmTIck4jI/Pz/deeed9s85OTmaNGmSqlevLn9/f5UqVUoPP/ywjh496vBcq1atVKtWLW3ZskUtWrRQYGCgKlWqpAkTJignJ0fS/w/7Z2VlacaMGfYpAEkaM2aM/ee/u/zMoUOH7GVr1qxRq1atFBoaqkKFCik8PFz33HOPzp07Z6+T19TG7t271aVLFxUvXlwBAQGKiorS3LlzHepcngJYsGCBRo8erbJlyyooKEht27bVgQMH8veHLOn++++XJC1YsMBedvr0aX388cfq27dvns+MHTtWjRs3VkhIiIKCglS/fn298847+vv7AytWrKg9e/Zo/fr19j+/yyM6l2N/7733NHz4cJUrV07+/v76+eefc01tnDhxQuXLl1ezZs2UmZlpb3/v3r0qXLiwHnrooXx/VwB5I5GAx8nOztaaNWvUoEEDlS9fPl/PPPbYYxo5cqTatWunpUuX6qWXXtLy5cvVrFkznThxwqFuamqqHnjgAT344INaunSpYmJiNGrUKM2bN0+S1KlTJ23YsEGSdO+992rDhg32z/l16NAhderUSX5+fpo9e7aWL1+uCRMmqHDhwrp48eIVnztw4ICaNWumPXv2aOrUqfrkk08UGRmp3r17a9KkSbnqP/vsszp8+LDefvttzZw5Uz/99JM6d+6s7OzsfMUZFBSke++9V7Nnz7aXLViwQF5eXurevfsVv9sjjzyiRYsW6ZNPPtHdd9+tJ554Qi+99JK9zuLFi1WpUiXVq1fP/uf3z2moUaNGKSUlRQkJCfrss89UqlSpXH2VKFFCCxcu1JYtWzRy5EhJ0rlz53TfffcpPDxcCQkJ+fqeAK7CADxMamqqIcno0aNHvurv27fPkGQMGjTIoXzTpk2GJOPZZ5+1l7Vs2dKQZGzatMmhbmRkpNGhQweHMknG4MGDHcri4uKMvP7azZkzx5BkJCcnG4ZhGB999JEhyUhKSrpq7JKMuLg4++cePXoY/v7+RkpKikO9mJgYIzAw0Pjzzz8NwzCMtWvXGpKM22+/3aHeokWLDEnGhg0brtrv5Xi3bNlib2v37t2GYRhGw4YNjd69exuGYRg1a9Y0WrZsecV2srOzjczMTOPFF180QkNDjZycHPu9Kz17ub9bb731ivfWrl3rUD5x4kRDkrF48WKjV69eRqFChYydO3de9TsCyB9GJPCft3btWknKtaivUaNGqlGjhlavXu1QXqZMGTVq1MihrE6dOjp8+LBpMUVFRcnPz08DBw7U3Llz9csvv+TruTVr1qhNmza5RmJ69+6tc+fO5RoZ+fv0jnTpe0gq0Hdp2bKlKleurNmzZ2vXrl3asmXLFac1LsfYtm1bBQcHy9vbW76+vnrhhRd08uRJpaWl5bvfe+65J991R4wYoU6dOun+++/X3LlzNW3aNNWuXTvfzwO4MhIJeJwSJUooMDBQycnJ+ap/8uRJSVJYWFiue2XLlrXfvyw0NDRXPX9/f50/f96JaPNWuXJlrVq1SqVKldLgwYNVuXJlVa5cWa+//vpVnzt58uQVv8fl+3/3z+9yeT1JQb6LzWZTnz59NG/ePCUkJKhq1apq0aJFnnU3b96s9u3bS7q0q+a7777Tli1bNHr06AL3m9f3vFqMvXv31oULF1SmTBnWRgAmIpGAx/H29labNm20bdu2XIsl83L5l+nx48dz3Tt27JhKlChhWmwBAQGSpIyMDIfyf67DkKQWLVros88+0+nTp7Vx40Y1bdpUsbGxWrhw4RXbDw0NveL3kGTqd/m73r1768SJE0pISFCfPn2uWG/hwoXy9fXV559/rm7duqlZs2aKjo52qs+8Fq1eyfHjxzV48GBFRUXp5MmTeuqpp5zqE0BuJBLwSKNGjZJhGBowYECeixMzMzP12WefSZJuu+02SbIvlrxsy5Yt2rdvn9q0aWNaXJd3HuzcudOh/HIsefH29lbjxo315ptvSpK2b99+xbpt2rTRmjVr7InDZe+++64CAwNdtjWyXLlyGjFihDp37qxevXpdsZ7NZpOPj4+8vb3tZefPn9d7772Xq65ZozzZ2dm6//77ZbPZtGzZMsXHx2vatGn65JNPrrltAJwjAQ/VtGlTzZgxQ4MGDVKDBg302GOPqWbNmsrMzNSOHTs0c+ZM1apVS507d1a1atU0cOBATZs2TV5eXoqJidGhQ4f0/PPPq3z58nryySdNi+v2229XSEiI+vXrpxdffFE+Pj5KTEzUkSNHHOolJCRozZo16tSpk8LDw3XhwgX7zoi2bdtesf24uDh9/vnnat26tV544QWFhIRo/vz5+uKLLzRp0iQFBweb9l3+acKECf9ap1OnTpo8ebJ69uypgQMH6uTJk/rf//6X5xbd2rVra+HChfrggw9UqVIlBQQEOLWuIS4uTt98841WrFihMmXKaPjw4Vq/fr369eunevXqKSIiosBtAvh/JBLwWAMGDFCjRo302muvaeLEiUpNTZWvr6+qVq2qnj176vHHH7fXnTFjhipXrqx33nlHb775poKDg9WxY0fFx8fnuSbCWUFBQVq+fLliY2P14IMPqlixYurfv79iYmLUv39/e72oqCitWLFCcXFxSk1NVZEiRVSrVi0tXbrUvsYgL9WqVdP333+vZ599VoMHD9b58+dVo0YNzZkzp0AnRLrKbbfdptmzZ2vixInq3LmzypUrpwEDBqhUqVLq16+fQ92xY8fq+PHjGjBggM6ePasKFSo4nLORHytXrlR8fLyef/55h5GlxMRE1atXT927d9e3334rPz8/M74e8J9kM4y/nQIDAABQAKyRAAAATiORAAAATiORAAAATiORAADAQ3399dfq3LmzypYtK5vNpiVLllyx7iOPPCKbzaYpU6YUqA8SCQAAPFR6errq1q2rN95446r1lixZok2bNtlPwS0Itn8CAOChYmJiFBMTc9U6v/76qx5//HF99dVX6tSpU4H7IJEAAOAGkZGRkeuIfX9//zwPdcuPnJwcPfTQQxoxYoRq1qzpVBsemUjcXeHOf68E/AdtPpu/t4gC/yVH/9jt8j4yT5jzdy/+jXc1duxYh7K4uDiNGTPGqfYmTpwoHx8fDRkyxOmYPDKRAADAE40aNUrDhg1zKHN2NGLbtm16/fXXtX379gK9BO+fSCQAAHC1nGxTmrmWaYx/+uabb5SWlqbw8HB7WXZ2toYPH64pU6bk+0h6EgkAAFzNyLE6glweeuihXC8B7NChgx566CH16dMn3+2QSAAA4Go51iQSf/31l37++Wf75+TkZCUlJSkkJETh4eG5Xkro6+urMmXKqFq1avnug0QCAAAPtXXrVrVu3dr++fL6il69eikxMdGUPkgkAABwMcOiqY1WrVqpIC/5zu+6iL8jkQAAwNUsmtq4HjgiGwAAOI0RCQAAXM0Nd22YhUQCAABXM+kcCXfE1AYAAHAaIxIAALgaUxsAAMBp7NoAAADIjREJAABczKoDqa4HEgkAAFzNg6c2SCQAAHA1Dx6RYI0EAABwGiMSAAC4mgcfSEUiAQCAqzG1AQAAkBsjEgAAuBq7NgAAgNOY2gAAAMiNEQkAAFyNqQ0AAOAsw/Dc7Z9MbQAAAKcxIgEAgKt58GJLEgkAAFyNNRIAAMBpHjwiwRoJAADgNEYkAABwNV7aBQAAnMbUBgAAQG6MSAAA4Grs2gAAAE5jagMAACA3RiQAAHA1pjYAAIDTPDiRYGoDAAA4jREJAABczJNfI04iAQCAq3nw1AaJBAAArsb2TwAAgNwYkQAAwNWY2gAAAE5jagMAACA3RiQAAHA1D57aYEQCAABXM3LMuQro66+/VufOnVW2bFnZbDYtWbLEfi8zM1MjR45U7dq1VbhwYZUtW1YPP/ywjh07VqA+SCQAAPBQ6enpqlu3rt54441c986dO6ft27fr+eef1/bt2/XJJ5/oxx9/1J133lmgPpjaAADA1Sya2oiJiVFMTEye94KDg7Vy5UqHsmnTpqlRo0ZKSUlReHh4vvogkQAAwNVMSiQyMjKUkZHhUObv7y9/f39T2j99+rRsNpuKFSuW72csmdooXry4QkJC8nUBAIBL4uPjFRwc7HDFx8eb0vaFCxf0zDPPqGfPngoKCsr3c5aMSEyZMsX+88mTJzVu3Dh16NBBTZs2lSRt2LBBX331lZ5//nkrwgMAwFwmnSMxatQoDRs2zKHMjNGIzMxM9ejRQzk5OZo+fXqBnrUkkejVq5f953vuuUcvvviiHn/8cXvZkCFD9MYbb2jVqlV68sknrQgRAADzmDS1YeY0xmWZmZnq1q2bkpOTtWbNmgKNRkhusGvjq6++UseOHXOVd+jQQatWrbIgIgAATGbR9s9/czmJ+Omnn7Rq1SqFhoYWuA3LE4nQ0FAtXrw4V/mSJUuc+kIAAOCSv/76S0lJSUpKSpIkJScnKykpSSkpKcrKytK9996rrVu3av78+crOzlZqaqpSU1N18eLFfPdh+a6NsWPHql+/flq3bp19jcTGjRu1fPlyvf322xZHBwCACSza/rl161a1bt3a/vny+opevXppzJgxWrp0qSQpKirK4bm1a9eqVatW+erD8kSid+/eqlGjhqZOnapPPvlEhmEoMjJS3333nRo3bmx1eAAAXDuLXtrVqlUrGYZxxftXu5dflicSktS4cWPNnz/f6jAAAEABuUUikZOTo59//llpaWnK+cfwz6233mpRVAAAmMSDX9pleSKxceNG9ezZU4cPH841xGKz2ZSdnW1RZAAAmIREwnUeffRRRUdH64svvlBYWJhsNpvVIQEAgHyyPJH46aef9NFHH6lKlSpWhwIAgGuYsKjRXVl+jkTjxo31888/Wx0GAACuk5NjzuWGLB+ReOKJJzR8+HClpqaqdu3a8vX1dbhfp04diyIDAAD/xvJE4p577pEk9e3b115ms9lkGAaLLQEAnsFNRxPMYHkikZycbHUIAAC4lkUHUl0PlicSFSpUsDoEAABcixEJ19u7d69SUlJyvSjkzjvvtCgiAADwbyxPJH755Rfddddd2rVrl31thCT7eRKskQAA3PDY/uk6Q4cOVUREhH777TcFBgZqz549+vrrrxUdHa1169ZZHR4AANeO7Z+us2HDBq1Zs0YlS5aUl5eXvLy81Lx5c8XHx2vIkCHasWOH1SECAIArsHxEIjs7W0WKFJEklShRQseOHZN0aRHmgQMHrAwNAABzMCLhOrVq1dLOnTtVqVIlNW7cWJMmTZKfn59mzpypSpUqWR0eAADXju2frvPcc88pPT1dkjRu3DjdcccdatGihUJDQ/XBBx9YHB0AALgayxOJDh062H+uVKmS9u7dqz/++EPFixfnTaAAAI9g5Hjurg3LE4m8hISEWB0CAADmcdP1DWawJJG4++678133k08+cWEkAADgWliSSAQHB1vRLQAA1mCxpbnmzJljRbcAAFiDNRIAAMBpHrxGwvIDqQAAwI2LEQkAAFzNg0ckSCQAAHA13v7pOu+++64yMjJylV+8eFHvvvuuBREBAID8sjyR6NOnj06fPp2r/OzZs+rTp48FEeFadXgwRpOXT9W83Qs1b/dCxS+epHqt6lsdFmC5xk0baM77b2jrnjU6+sdudbj9NqtDwvXCS7tcxzCMPI/CPnr0KOdN3KBOHj+heRPn6vih45Kk1vfepmdmjdZTt8fqyE9HLI4OsE5g4ULau/uAFr2/RLPenWJ1OLie2P5pvnr16slms8lms6lNmzby8fn/ULKzs5WcnKyOHTtaFR6uwdbVWxw+v//KPHV4MEZV61cnkcB/2tpV32rtqm+tDgMwlWWJRNeuXSVJSUlJ6tChg4oUKWK/5+fnp4oVK+qee+6xKDqYxcvLS0073aKAQgE6sH2/1eEAgDU42dJ8cXFxkqSKFSuqe/fuCggIsCoUuEB4tQqKXzxJfv5+upB+XhMfGa+jjEYA+K9iasN1evXqJUnatm2b9u3bJ5vNpsjISNWrVy9fz2dkZOTa9ZFtZMvb5m16rMi/Y7/8quExsSocVFhNYprpiVdj9Xz3Z0kmAMDDWJ5IpKWlqUePHlq3bp2KFSsmwzB0+vRptW7dWgsXLlTJkiWv+nx8fLzGjh3rUFY9qKpqFKvmyrDxL7Iys5R6+NJiy4O7flaVulV0R5/OSnh2usWRAcD1Z7jpjgszWL7984knntCZM2e0Z88e/fHHHzp16pR2796tM2fOaMiQIf/6/KhRo3T69GmHq2pwlesQOQrCZrPJx8/X6jAAwBo5hjmXG7J8RGL58uVatWqVatSoYS+LjIzUm2++qfbt2//r8/7+/vL393coY1rDWg+MeEjb123TieMnVKhwITW/s4VqNqmlcQ+P/feHAQ8WWLiQKkaE2z+Xr1BOkbWq6c9Tp3Xs11QLI4PLsdjSdXJycuTrm/tfqr6+vsrx4KEgTxZcspiGvvakipcK0bmz6Tq0/5DGPTxWP3ybZHVogKXqRtXSh5/NsX8e8/JISdKi95do2OPPWRUWcE0sTyRuu+02DR06VAsWLFDZsmUlSb/++quefPJJtWnTxuLo4IzpT0+zOgTALW34botuCqlldRiwgptOS5jB8jUSb7zxhs6ePauKFSuqcuXKqlKliiIiInT27FlNm8YvJACAB+CIbNcpX768tm/frpUrV2r//v0yDEORkZFq27at1aEBAIB/YXkicVm7du3Url07q8MAAMB8Hjy14RaJxOrVq7V69WqlpaXlWmA5e/Zsi6ICAMAkFu3a+Prrr/XKK69o27ZtOn78uBYvXmx/RYV06cWZY8eO1cyZM3Xq1Ck1btxYb775pmrWrJnvPixfIzF27Fi1b99eq1ev1okTJ3Tq1CmHCwAAOCc9PV1169bVG2+8kef9SZMmafLkyXrjjTe0ZcsWlSlTRu3atdPZs2fz3YflIxIJCQlKTEzUQw89ZHUoAAC4hkVTGzExMYqJicnznmEYmjJlikaPHq27775bkjR37lyVLl1a77//vh555JF89WH5iMTFixfVrFkzq8MAAMBljJwcUy4zJScnKzU11eHwR39/f7Vs2VLff/99vtuxPJHo37+/3n//favDAADA7WVkZOjMmTMO1z9fXJlfqamXTlMtXbq0Q3np0qXt9/LD8qmNCxcuaObMmVq1apXq1KmT65TLyZMnWxQZAAAmMWlqI68XVcbFxWnMmDFOt2mz2Rw+G4aRq+xqLE8kdu7cqaioKEnS7t27He4V5IsAAOC2TEokRo0apWHDhjmU/fN9U/lVpkwZSZdGJsLCwuzlaWlpuUYprsbyRGLt2rVWhwAAgGuZtP0zrxdVOisiIkJlypTRypUrVa9ePUmX1i2uX79eEydOzHc7licSAADANf766y/9/PPP9s/JyclKSkpSSEiIwsPDFRsbq/Hjx+vmm2/WzTffrPHjxyswMFA9e/bMdx8kEgAAuJpF2z+3bt2q1q1b2z9fnhbp1auXEhMT9fTTT+v8+fMaNGiQ/UCqFStWqGjRovnuw2YYhsed23l3hTutDgFwS5vP/mJ1CIDbOfrH7n+vdI3OxnY2pZ2iUz4zpR0zWb79EwAA3LiY2gAAwNV4aZe5li5dmu+6d97JNAUA4AZn8qmU7sSSROLvbx6TLp0X8felGn8/PyI7O/t6hQUAAArIkjUSOTk59mvFihWKiorSsmXL9Oeff+r06dP68ssvVb9+fS1fvtyK8AAAMFeOYc7lhixfIxEbG6uEhAQ1b97cXtahQwcFBgZq4MCB2rdvn4XRAQBgAjdNAsxg+a6NgwcPKjg4OFd5cHCwDh06dP0DAgAA+WZ5ItGwYUPFxsbq+PHj9rLU1FQNHz5cjRo1sjAyAADMYRiGKZc7snxqY/bs2brrrrtUoUIFhYeHS5JSUlJUtWpVLVmyxNrgAAAwgwdPbVieSFSpUkU7d+7UypUrtX//fhmGocjISLVt25a3fwIAPAOJhGvZbDa1b99e7du3tzoUAABQAJYkElOnTtXAgQMVEBCgqVOnXrXukCFDrlNUAAC4huHBIxKWvLQrIiJCW7duVWhoqCIiIq5Yz2az6ZdfCv6SIV7aBeSNl3YBuV2Pl3ad7tXGlHaC5642pR0zWTIikZycnOfPAADgxuIWayQAAPBonvuqDWsSiWHDhuW77uTJk10YCQAArufJayQsSSR27Njh8Hnbtm3Kzs5WtWrVJEk//vijvL291aBBAyvCAwAA+WRJIrF27Vr7z5MnT1bRokU1d+5cFS9eXJJ06tQp9enTRy1atLAiPAAAzOXBIxKW7Nr4u3LlymnFihWqWbOmQ/nu3bvVvn17HTt2rMBtsmsDyBu7NoDcrseujT+7tzalnWIfrP33SteZ5e/aOHPmjH777bdc5WlpaTp79qwFEQEAgPyyfNfGXXfdpT59+ujVV19VkyZNJEkbN27UiBEjdPfdd1scHQAA147Fli6UkJCgp556Sg8++KAyMzMlST4+PurXr59eeeUVi6MDAMAEbP90ncDAQE2fPl2vvPKKDh48KMMwVKVKFRUuXNjq0AAAMAUjEtdB4cKFVadOHavDAAAABeA2iQQAAB6LqQ0AAOAsw4MTCcu3fwIAgBsXIxIAALiaB49IkEgAAOBiTG0AAADkgREJAABczYNHJEgkAABwMU+e2iCRAADAxTw5kWCNBAAAcBojEgAAuJgnj0iQSAAA4GqGzeoIXIapDQAA4LRrTiSys7OVlJSkU6dOmREPAAAex8gx53JHBU4kYmNj9c4770i6lES0bNlS9evXV/ny5bVu3Tqz4wMA4IZn5NhMudxRgROJjz76SHXr1pUkffbZZ0pOTtb+/fsVGxur0aNHmx4gAABwXwVOJE6cOKEyZcpIkr788kvdd999qlq1qvr166ddu3aZHiAAADc6pjb+pnTp0tq7d6+ys7O1fPlytW3bVpJ07tw5eXt7mx4gAAA3OsOwmXK5owInEn369FG3bt1Uq1Yt2Ww2tWvXTpK0adMmVa9e3fQAAQBAwWVlZem5555TRESEChUqpEqVKunFF19UTo65QxsFPkdizJgxqlWrlo4cOaL77rtP/v7+kiRvb28988wzpgYHAIAnsGJaYuLEiUpISNDcuXNVs2ZNbd26VX369FFwcLCGDh1qWj9OHUh177335irr1avXNQcDAIAnsmLHxYYNG9SlSxd16tRJklSxYkUtWLBAW7duNbWffCUSU6dOzXeDQ4YMcToYAAA8kWFc/z6bN2+uhIQE/fjjj6patap++OEHffvtt5oyZYqp/eQrkXjttdfy1ZjNZiORAADARTIyMpSRkeFQ5u/vb19m8HcjR47U6dOnVb16dXl7eys7O1svv/yy7r//flNjylcikZycbGqnAAD8l5g1tREfH6+xY8c6lMXFxWnMmDG56n7wwQeaN2+e3n//fdWsWVNJSUmKjY1V2bJlTV2OYDMM5wZcLl68qOTkZFWuXFk+Pu717q+7K9xpdQiAW9p89herQwDcztE/dru8j0NR7UxpJ2zT5/kekShfvryeeeYZDR482F42btw4zZs3T/v37zclHsmJ7Z/nzp1Tv379FBgYqJo1ayolJUXSpbUREyZMMC0wAADgyN/fX0FBQQ5XXkmEdOn3tZeX4695b29v07d/FjiRGDVqlH744QetW7dOAQEB9vK2bdvqgw8+MDU4AAA8gWGYcxVE586d9fLLL+uLL77QoUOHtHjxYk2ePFl33XWXqd+twHMSS5Ys0QcffKAmTZrIZvv/OZ/IyEgdPHjQ1OAAAPAEVmz/nDZtmp5//nkNGjRIaWlpKlu2rB555BG98MILpvZT4ETi999/V6lSpXKVp6enOyQWAADAOkWLFtWUKVNM3+75TwWe2mjYsKG++OIL++fLycOsWbPUtGlT8yIDAMBDePK7Ngo8IhEfH6+OHTtq7969ysrK0uuvv649e/Zow4YNWr9+vStiBADghuaub+40Q4FHJJo1a6bvvvtO586dU+XKlbVixQqVLl1aGzZsUIMGDVwRIwAAcFNOHQBRu3ZtzZ071+xYAADwSDluOi1hBqcSiezsbC1evFj79u2TzWZTjRo11KVLF7c7mAoAAHfgrusbzFDg3/y7d+9Wly5dlJqaqmrVqkmSfvzxR5UsWVJLly5V7dq1TQ8SAIAbmRXbP6+XAq+R6N+/v2rWrKmjR49q+/bt2r59u44cOaI6depo4MCBrogRAAC4qQKPSPzwww/aunWrihcvbi8rXry4Xn75ZTVs2NDU4AAA8ARWvEb8einwiES1atX022+/5SpPS0tTlSpVTAkKAABPYuTYTLncUb4SiTNnztiv8ePHa8iQIfroo4909OhRHT16VB999JFiY2M1ceJEV8cLAADcSL6mNooVK+Zw/LVhGOrWrZu97PKbyDt37qzs7GwXhAkAwI3rP7/9c+3ata6OAwAAj/Wf3/7ZsmVLV8cBAABuQE6fIHXu3DmlpKTo4sWLDuV16tS55qAAAPAknrxrw6nXiPfp00fLli3L8z5rJAAAcOTJayQKvP0zNjZWp06d0saNG1WoUCEtX75cc+fO1c0336ylS5e6IkYAAOCmCjwisWbNGn366adq2LChvLy8VKFCBbVr105BQUGKj49Xp06dXBEnAAA3LE9ebFngEYn09HSVKlVKkhQSEqLff/9d0qU3gm7fvt3c6AAA8ACGYc7ljpw62fLAgQOSpKioKL311lv69ddflZCQoLCwMNMDBADgRpdj2Ey53FGBpzZiY2N1/PhxSVJcXJw6dOig+fPny8/PT4mJiWbHBwAA3JjNMK5tsOTcuXPav3+/wsPDVaJECbPiuiY+fuWsDgFwS+ePfWN1CIDb8S1RyeV9bCl3lyntNPx1sSntmMnpcyQuCwwMVP369c2IBQAAj+Su0xJmyFciMWzYsHw3OHnyZKeDAQAAN5Z8JRI7duzIV2N/f7EXAAC4xE03XJiCl3YBAOBinjy1UeDtnwAAAJdd82JLAABwdZ58siWJBAAALpZjdQAuxNQGAABwGiMSAAC4mCHPndpwakTivffe0y233KKyZcvq8OHDkqQpU6bo008/NTU4AAA8QY5hzuWOCpxIzJgxQ8OGDdPtt9+uP//8U9nZ2ZKkYsWKacqUKWbHBwDADS9HNlMud1TgRGLatGmaNWuWRo8eLW9vb3t5dHS0du3aZWpwAADAvRV4jURycrLq1auXq9zf31/p6emmBAUAgCdhjcTfREREKCkpKVf5smXLFBkZaUZMAAB4lByTLndU4BGJESNGaPDgwbpw4YIMw9DmzZu1YMECxcfH6+2333ZFjAAAwE0VOJHo06ePsrKy9PTTT+vcuXPq2bOnypUrp9dff109evRwRYwAANzQPHlqw2YYhtMbSk6cOKGcnByVKlXKzJiumY9fOatDANzS+WPfWB0C4HZ8S1RyeR/LS5vzD+2Ovy00pR0zXdOBVCVKlDArDgAAcAMqcCIREREhm+3KQzS//PLLNQUEAICncdeFkmYocCIRGxvr8DkzM1M7duzQ8uXLNWLECLPiAgDAY3jyGokCJxJDhw7Ns/zNN9/U1q1brzkgAABw4zDt7Z8xMTH6+OOPzWoOAACPkWMz5yqoX3/9VQ8++KBCQ0MVGBioqKgobdu2zdTvZtrbPz/66COFhISY1RwAAB7DivdknDp1Srfccotat26tZcuWqVSpUjp48KCKFStmaj8FTiTq1avnsNjSMAylpqbq999/1/Tp000NDgAAT2DFizsnTpyo8uXLa86cOfayihUrmt5PgROJrl27Onz28vJSyZIl1apVK1WvXt2suAAAwD9kZGQoIyPDoczf31/+/v656i5dulQdOnTQfffdp/Xr16tcuXIaNGiQBgwYYGpMBUoksrKyVLFiRXXo0EFlypQxNRAAADyVWds/4+PjNXbsWIeyuLg4jRkzJlfdX375RTNmzNCwYcP07LPPavPmzRoyZIj8/f318MMPmxSREydbBgYGat++fapQoYJpQZiNky2BvHGyJZDb9TjZ8qOwB0xpp/Oh2fkekfDz81N0dLS+//57e9mQIUO0ZcsWbdiwwZR4JCd2bTRu3Fg7duwwLQAAAJA//v7+CgoKcrjySiIkKSwsLNdbuWvUqKGUlBRTYyrwGolBgwZp+PDhOnr0qBo0aKDChQs73K9Tp45pwQEA4AmsWGx5yy236MCBAw5lP/74o+kzCvlOJPr27aspU6aoe/fuki4Nj1xms9lkGIZsNpuys7NNDRAAgBudFUdkP/nkk2rWrJnGjx+vbt26afPmzZo5c6Zmzpxpaj/5XiPh7e2t48eP6/z581et5w5rJ1gjAeSNNRJAbtdjjcQHJq2R6H58foHqf/755xo1apR++uknRUREaNiwYdbt2ricb7hDogAAwI3EmVMpzXDHHXfojjvucGkfBVojcbW3fgIAgLxZcbLl9VKgRKJq1ar/mkz88ccf1xQQAAC4cRQokRg7dqyCg4NdFQsAAB7Jil0b10uBEokePXqoVKlSrooFAACPZNUaiesh34kE6yMAAHCOFds/r5d8n2xZwJO0AQDAf0C+RyRycjw5nwIAwHU8+Z/iBT4iGwAAFIwnr5Eo8Eu7AAAALmNEAgAAF/PkxQEkEgAAuJgnJxJMbQAAAKcxIgEAgIsZHrzYkkQCAAAXY2oDAAAgD4xIAADgYp48IkEiAQCAi3GyJQAAcBonWwIAAOSBEQkAAFyMNRIAAMBpnpxIMLUBAACcxogEAAAuxq4NAADgNHZtAAAA5IERCQAAXMyTF1uSSAAA4GKevEaCqQ0AAOA0RiQAAHCxHA8ekyCRAADAxVgjAQAAnOa54xGskQAAANeAEQkAAFyMqQ0AAOA0TrYEAADIAyMSAAC4GNs/AQCA0zw3jWBqAwAAXANGJAAAcDF2bbjAzp078123Tp06LowEAADXYo2EC0RFRclms8kwDNlsV98Xk52dfZ2iAgAABWHZGonk5GT98ssvSk5O1scff6yIiAhNnz5dO3bs0I4dOzR9+nRVrlxZH3/8sVUhAgBgCsOkyx1ZNiJRoUIF+8/33Xefpk6dqttvv91eVqdOHZUvX17PP/+8unbtakGEAACYwx3WSMTHx+vZZ5/V0KFDNWXKFNPadYvFlrt27VJERESu8oiICO3du9eCiAAAMI/VayS2bNmimTNnumTNoVts/6xRo4bGjRunCxcu2MsyMjI0btw41ahRw8LIAAC4sf3111964IEHNGvWLBUvXtz09t1iRCIhIUGdO3dW+fLlVbduXUnSDz/8IJvNps8//9zi6AAAuDZmjUdkZGQoIyPDoczf31/+/v5XfGbw4MHq1KmT2rZtq3HjxpkUyf9zixGJRo0aKTk5WS+//LLq1Kmj2rVra/z48UpOTlajRo2sDg8AgGuSY9IVHx+v4OBghys+Pv6K/S5cuFDbt2+/ap1r5RYjEpIUGBiogQMHWh0GAABua9SoURo2bJhD2ZVGI44cOaKhQ4dqxYoVCggIcFlMbjEiIUnvvfeemjdvrrJly+rw4cOSpNdee02ffvqpxZEBAHBtDJP+8/f3V1BQkMN1pURi27ZtSktLU4MGDeTj4yMfHx+tX79eU6dOlY+Pj2lnNLlFIjFjxgwNGzZMMTExOnXqlP3LFS9e3NQtKgAAWMGsqY2CaNOmjXbt2qWkpCT7FR0drQceeEBJSUny9vY246u5RyIxbdo0zZo1S6NHj5aPz//PtkRHR2vXrl0WRgYAwI2paNGiqlWrlsNVuHBhhYaGqlatWqb14xZrJJKTk1WvXr1c5f7+/kpPT7cgIgAAzGP1ORKu5BaJREREhJKSkhxOu5SkZcuWKTIy0qKoAAAwh7ukEevWrTO9TbdIJEaMGKHBgwfrwoULMgxDmzdv1oIFCxQfH6+3337b6vAAAMAVuMUaiT59+iguLk5PP/20zp07p549eyohIUGvv/66evToYXV4cNKjj/TSTwc26K8zB7Vp4zI1v4UzQfDfsjVplwY/HafWdz6gWrfEaPXX31+x7thJU1Xrlhi998Hi6xghrpccGaZc7sgtEglJGjBggA4fPqy0tDSlpqbqyJEj6tevn9VhwUn33XenJr86RvETpiq6UQd9++1mff7ZPJUvX9bq0IDr5vz5C6pWpZKeHTboqvVWf/29du45oFIlQq9TZLjerNi1cb24TSJxWYkSJVSqVCmrw8A1enLoAM2es1Cz5yzQ/v0/a/hTcTpy9JgefeRhq0MDrpsWTRtqyMBeatfqlivW+e33Exo/ebomxj0tHx9ztuPB/Zh1joQ7smyNRL169WSz2fJVd/v27S6OBmby9fVV/fp1NPGVNx3KV65cr6ZNoi2KCnA/OTk5GvXi/9S7572qUqnCvz8AuCHLEomuXbvaf75w4YKmT5+uyMhINW3aVJK0ceNG7dmzR4MGXX1IMK8XmBiGke8kBeYrUSJEPj4+SvvthEN5WtoJlS7DaBNw2TvzPpS3t5cevK+L1aHAxdx1WsIMliUScXFx9p/79++vIUOG6KWXXspV58iRI1dtJz4+XmPHjnUos3kVkc07yLxg4RTDcByGs9lsucqA/6o9+3/SvA8/1Yezp/EPn/8Ad52WMINbrJH48MMP9fDDuefOH3zwQX388cdXfXbUqFE6ffq0w2XzKuqqUJEPJ078oaysLJUuU9KhvGTJUKX99rtFUQHuZfsPu/XHqT/V7p6HVffWTqp7aycdS03TK2+8rfb39LI6PCDf3OIciUKFCunbb7/VzTff7FD+7bff/usby/J6DzvZvbUyMzO1fftOtW1zqz79dLm9vG3bW/XZZ19ZGBngPjp3bKMmDR1P9H3kyefUueNt6np7e4uigqswteFisbGxeuyxx7Rt2zY1adJE0qU1ErNnz9YLL7xgcXRwxmuvz9LcOa9r27YftHHTNg3o96DCy5fTWzPfszo04Lo5d+68Uo4es3/+9dhv2v/jQQUHFVVYmVIqFuw4Bevj460SIcUVUeGm6x0qXCzHg6d13SKReOaZZ1SpUiW9/vrrev/99yVJNWrUUGJiorp162ZxdHDGhx8uVWhIcT03+kmFhZXS7j0H1PnOh5SS8qvVoQHXze79P6nvEyPtnydNmylJ6hLTVi8/N9yqsABT2QwPXP3m41fO6hAAt3T+2DdWhwC4Hd8SlVzex4MV7jalnXmHPzGlHTO5xYjEZRcvXlRaWppychxnk8LDwy2KCACAa+eux1ubwS0SiZ9++kl9+/bV9987nkN/+TyI7OxsiyIDAABX4xaJRO/eveXj46PPP/9cYWFh7LoAAHgUTz5Hwi0SiaSkJG3btk3Vq1e3OhQAAEzH9k8Xi4yM1IkTJ/69IgAANyBPXiPhFidbTpw4UU8//bTWrVunkydP6syZMw4XAABwT24xItG2bVtJUps2bRzKWWwJAPAErJFwsbVr11odAgAALsMaCRdr2bKl1SEAAAAnuEUicdm5c+eUkpKiixcvOpTXqVPHoogAALh2HniItJ1bJBK///67+vTpo2XLluV5nzUSAIAbGbs2XCw2NlanTp3Sxo0bVahQIS1fvlxz587VzTffrKVLl1odHgAAuAK3GJFYs2aNPv30UzVs2FBeXl6qUKGC2rVrp6CgIMXHx6tTp05WhwgAgNM8ebGlW4xIpKenq1SpUpKkkJAQ/f7775Kk2rVra/v27VaGBgDANTNM+s8duUUiUa1aNR04cECSFBUVpbfeeku//vqrEhISFBYWZnF0AADgStxiaiM2NlbHjx+XJMXFxalDhw6aN2+e/Pz8NHfuXIujAwDg2njyYku3SCQeeOAB+8/16tXToUOHtH//foWHh6tEiRIWRgYAwLVj+6cLDBs2LN91J0+e7MJIAABwLU9ebGlZIrFjx4581bPZbC6OBAAAOMuyRIL3awAA/ivcdceFGdxijQQAAJ7MkxdbusX2TwAAcGNiRAIAABdj1wYAAHAaUxsAAAB5YEQCAAAXY9cGAABwWo4Hr5FgagMAADiNEQkAAFzMc8cjSCQAAHA5dm0AAACn5cgw5SqI+Ph4NWzYUEWLFlWpUqXUtWtXHThwwPTvRiIBAIAHWr9+vQYPHqyNGzdq5cqVysrKUvv27ZWenm5qP0xtAADgYlacbLl8+XKHz3PmzFGpUqW0bds23Xrrrab1QyIBAICLmbVGIiMjQxkZGQ5l/v7+8vf3/9dnT58+LUkKCQkxJZbLmNoAAOAGER8fr+DgYIcrPj7+X58zDEPDhg1T8+bNVatWLVNjYkQCAAAXM+tky1GjRmnYsGEOZfkZjXj88ce1c+dOffvtt6bE8XckEgAAuJhZayTyO43xd0888YSWLl2qr7/+WjfddJMpcfwdiQQAAB7IMAw98cQTWrx4sdatW6eIiAiX9EMiAQCAi1lxINXgwYP1/vvv69NPP1XRokWVmpoqSQoODlahQoVM68dmWLEnxcV8/MpZHQLgls4f+8bqEAC341uiksv7qFfmFlPa2ZH6Xb7r2my2PMvnzJmj3r17mxKPxIgEAAAe6XqNE5BIAADgYp78rg0SCQAAXMys7Z/uiEQCAAAXy/G85Yh2nGwJAACcxogEAAAuxtQGAABwGlMbAAAAeWBEAgAAF2NqAwAAOI2pDQAAgDwwIgEAgIsxtQEAAJzG1AYAAEAeGJEAAMDFmNoAAABOM4wcq0NwGRIJAABczJNfI84aCQAA4DRGJAAAcDHDg3dtkEgAAOBiTG0AAADkgREJAABcjKkNAADgNE62BAAAyAMjEgAAuBgnWwIAAKd58hoJpjYAAIDTGJEAAMDFPPkcCRIJAABczJOnNkgkAABwMbZ/AgAA5IERCQAAXIypDQAA4DRPXmzJ1AYAAHAaIxIAALgYUxsAAMBp7NoAAADIAyMSAAC4GC/tAgAATmNqAwAAIA+MSAAA4GLs2gAAAE7z5DUSTG0AAOBihmGYcjlj+vTpioiIUEBAgBo0aKBvvvnG1O9GIgEAgIf64IMPFBsbq9GjR2vHjh1q0aKFYmJilJKSYlofNsMDJ258/MpZHQLgls4fM/dfIoAn8C1RyfV9mPR7KfPirwWq37hxY9WvX18zZsywl9WoUUNdu3ZVfHy8KTExIgEAgIsZJl0FcfHiRW3btk3t27d3KG/fvr2+//57p7/LP7HYEgCAG0RGRoYyMjIcyvz9/eXv75+r7okTJ5Sdna3SpUs7lJcuXVqpqammxeSRiURWAYd+4BoZGRmKj4/XqFGj8vyfHPiv4u/Gf49Zv5fGjBmjsWPHOpTFxcVpzJgxV3zGZrM5fDYMI1fZtfDINRJwD2fOnFFwcLBOnz6toKAgq8MB3AZ/N+CsgoxIXLx4UYGBgfrwww9111132cuHDh2qpKQkrV+/3pSYWCMBAMANwt/fX0FBQQ7XlUa1/Pz81KBBA61cudKhfOXKlWrWrJlpMXnk1AYAAJCGDRumhx56SNHR0WratKlmzpyplJQUPfroo6b1QSIBAICH6t69u06ePKkXX3xRx48fV61atfTll1+qQoUKpvVBIgGX8ff3V1xcHIvJgH/g7waup0GDBmnQoEEua5/FlgAAwGkstgQAAE4jkQAAAE4jkQAAAE4jkfBArVq1UmxsrP1zxYoVNWXKlKs+Y7PZtGTJEpfGlV+9e/dW165dXd5PYmKiihUr5vJ+4Nn++ffNFcaMGaOoqCiX9gE4i10b/wFbtmxR4cKFrQ5DY8aM0ZIlS5SUlGR1KAAAk5BI/AeULFnS6hAAAB6KqY0bXHp6uh5++GEVKVJEYWFhevXVV3PV+efUxk8//aRbb71VAQEBioyMzHV8al5atWqlIUOG6Omnn1ZISIjKlCmT6yUxKSkp6tKli4oUKaKgoCB169ZNv/32m6RL0whjx47VDz/8IJvNJpvNpsTExHx9x+XLl6t58+YqVqyYQkNDdccdd+jgwYP2+4cOHZLNZtMnn3yi1q1bKzAwUHXr1tWGDRsc2klMTFR4eLgCAwN111136eTJk/nqH8ivefPmKTo6WkWLFlWZMmXUs2dPpaWl2e+vW7dONptNq1evVnR0tAIDA9WsWTMdOHDAoZ0JEyaodOnSKlq0qPr166cLFy5c768C5BuJxA1uxIgRWrt2rRYvXqwVK1Zo3bp12rZt2xXr5+Tk6O6775a3t7c2btyohIQEjRw5Ml99zZ07V4ULF9amTZs0adIkvfjii/YkxDAMde3aVX/88YfWr1+vlStX6uDBg+revbukS6erDR8+XDVr1tTx48d1/Phx+71/k56ermHDhmnLli1avXq1vLy8dNdddyknJ8eh3ujRo/XUU08pKSlJVatW1f3336+srCxJ0qZNm9S3b18NGjRISUlJat26tcaNG5ev/oH8unjxol566SX98MMPWrJkiZKTk9W7d+9c9UaPHq1XX31VW7dulY+Pj/r27Wu/t2jRIsXFxenll1/W1q1bFRYWpunTp1/HbwEUkIEb1tmzZw0/Pz9j4cKF9rKTJ08ahQoVMoYOHWovq1ChgvHaa68ZhmEYX331leHt7W0cOXLEfn/ZsmWGJGPx4sVX7Ktly5ZG8+bNHcoaNmxojBw50jAMw1ixYoXh7e1tpKSk2O/v2bPHkGRs3rzZMAzDiIuLM+rWrfuv36tXr15Gly5drng/LS3NkGTs2rXLMAzDSE5ONiQZb7/9dq6+9+3bZxiGYdx///1Gx44dHdrp3r27ERwc/K/xAFfTsmVLh79vf7d582ZDknH27FnDMAxj7dq1hiRj1apV9jpffPGFIck4f/68YRiG0bRpU+PRRx91aKdx48b5+rsDWIERiRvYwYMHdfHiRTVt2tReFhISomrVql3xmX379ik8PFw33XSTvezvz19NnTp1HD6HhYXZh2337dun8uXLq3z58vb7kZGRKlasmPbt25ev9q/k4MGD6tmzpypVqqSgoCBFRERIujSVcqX4wsLCJMkhvn9+z/x+byC/duzYoS5duqhChQoqWrSoWrVqJYn/V+HZSCRuYIYTp5vn9YzNZsvXs76+vrmeuzy9YBhGnu1cqbwgOnfurJMnT2rWrFnatGmTNm3aJOnSMPKV4rvc59/jA1wpPT1d7du3V5EiRTRv3jxt2bJFixcvllSw/1eBGw2JxA2sSpUq8vX11caNG+1lp06d0o8//njFZyIjI5WSkqJjx47Zy/65KNEZl9s9cuSIvWzv3r06ffq0atSoIUny8/NTdnZ2gdo9efKk9u3bp+eee05t2rRRjRo1dOrUKafi+/ufk6Rcn4FrsX//fp04cUITJkxQixYtVL16dYeFlvlVo0YN/l/FDYXtnzewIkWKqF+/fhoxYoRCQ0NVunRpjR49Wl5eV84P27Ztq2rVqunhhx/Wq6++qjNnzmj06NHXHEvbtm1Vp04dPfDAA5oyZYqysrI0aNAgtWzZUtHR0ZIu7R5JTk5WUlKSbrrpJhUtWvRf335YvHhxhYaGaubMmQoLC1NKSoqeeeaZAsc3ZMgQNWvWTJMmTVLXrl21YsUKLV++3KnvCuQlPDxcfn5+mjZtmh599FHt3r1bL730UoHbGTp0qHr16qXo6Gg1b95c8+fP1549e1SpUiUXRA1cO0YkbnCvvPKKbr31Vt15551q27atmjdvrgYNGlyxvpeXlxYvXqyMjAw1atRI/fv318svv3zNcVw+GbN48eK69dZb1bZtW1WqVEkffPCBvc4999yjjh07qnXr1ipZsqQWLFjwr+16eXlp4cKF2rZtm2rVqqUnn3xSr7zySoHja9Kkid5++21NmzZNUVFRWrFihZ577rkCtwNcScmSJZWYmKgPP/xQkZGRmjBhgv73v/8VuJ3u3bvrhRde0MiRI9WgQQMdPnxYjz32mAsiBszBa8QBAIDTGJEAAABOI5EAAABOI5EAAABOI5EAAABOI5EAAABOI5EAAABOI5EAAABOI5EALDRmzBhFRUXZP/fu3Vtdu3a97nEcOnRINptNSUlJV6xTsWJFTZkyJd9tJiYmqlixYtcc2+XDzgC4JxIJ4B969+4tm80mm80mX19fVapUSU899ZTS09Nd3vfrr7+uxMTEfNXNzy9/AHA13rUB5KFjx46aM2eOMjMz9c0336h///5KT0/XjBkzctXNzMzM9WZUZwUHB5vSDgBcL4xIAHnw9/dXmTJlVL58efXs2VMPPPCAfXj98nTE7NmzValSJfn7+8swDJ0+fVoDBw5UqVKlFBQUpNtuu00//PCDQ7sTJkxQ6dKlVbRoUfXr108XLlxwuP/PqY2cnBxNnDhRVapUkb+/v8LDw+3vRomIiJAk1atXTzabTa1atbI/N2fOHNWoUUMBAQGqXr26pk+f7tDP5s2bVa9ePQUEBCg6Olo7duwo8J/R5MmTVbt2bRUuXFjly5fXoEGD9Ndff+Wqt2TJElWtWlUBAQFq166dwxtiJemzzz5TgwYNFBAQoEqVKmns2LHKysrKs8+LFy/q8ccfV1hYmAICAlSxYkXFx8cXOHYA5mFEAsiHQoUKKTMz0/75559/1qJFi/Txxx/L29tbktSpUyeFhIToyy+/VHBwsN566y21adNGP/74o0JCQrRo0SLFxcXpzTffVIsWLfTee+9p6tSpV32r46hRozRr1iy99tprat68uY4fP679+/dLupQMNGrUSKtWrVLNmjXl5+cnSZo1a5bi4uL0xhtvqF69etqxY4cGDBigwoULq1evXkpPT9cdd9yh2267TfPmzVNycrKGDh1a4D8TLy8vTZ061f5W10GDBunpp592SFrOnTunl19+WXPnzpWfn58GDRqkHj166LvvvpMkffXVV3rwwQc1depUtWjRQgcPHtTAgQMlSXFxcbn6nDp1qpYuXapFixYpPDxcR44cyZWYALjODAAOevXqZXTp0sX+edOmTUZoaKjRrVs3wzAMIy4uzvD19TXS0tLsdVavXm0EBQUZFy5ccGircuXKxltvvWUYhmE0bdrUePTRRx3uN27c2Khbt26efZ85c8bw9/c3Zs2alWecycnJhiRjx44dDuXly5c33n//fYeyl156yWjatKlhGIbx1ltvGSEhIUZ6err9/owZM/Js6+8qVKhgvPbaa1e8v2jRIiM0NNT+ec6cOYYkY+PGjfayffv2GZKMTZs2GYZhGC1atDDGjx/v0M57771nhIWF2T9LMhYvXmwYhmE88cQTxm233Wbk5ORcMQ4A1xcjEkAePv/8cxUpUkRZWVnKzMxUly5dNG3aNPv9ChUqqGTJkvbP27Zt019//aXQ0FCHds6fP6+DBw9Kkvbt26dHH33U4X7Tpk21du3aPGPYt2+fMjIy1KZNm3zH/fvvv+vIkSPq16+fBgwYYC/Pysqyr7/Yt2+f6tatq8DAQIc4Cmrt2rUaP3689u7dqzNnzigrK0sXLlxQenq6ChcuLEny8fFRdHS0/Znq1aurWLFi2rdvnxo1aqRt27Zpy5YtDq+yz87O1oULF3Tu3DmHGKVLUz/t2rVTtWrV1LFjR91xxx1q3759gWMHYB4SCSAPrVu31owZM+Tr66uyZcvmWkx5+RflZTk5OQoLC9O6detyteXsFshChQoV+JmcnBxJl6Y3Gjdu7HDv8hSMYRhOxfN3hw8f1u23365HH31UL730kkJCQvTtt9+qX79+DlNA0qXtm/90uSwnJ0djx47V3XffnatOQEBArrL69esrOTlZy5Yt06pVq9StWze1bdtWH3300TV/JwDOIZEA8lC4cGFVqVIl3/Xr16+v1NRU+fj4qGLFinnWqVGjhjZu3KiHH37YXrZx48YrtnnzzTerUKFCWr16tfr375/r/uU1EdnZ2fay0qVLq1y5cvrll1/0wAMP5NluZGSk3nvvPZ0/f96erFwtjrxs3bpVWVlZevXVV+XldWnN9qJFi3LVy8rK0tatW9WoUSNJ0oEDB/Tnn3+qevXqki79uR04cKBAf9ZBQUHq3r27unfvrnvvvVcdO3bUH3/8oZCQkAJ9BwDmIJEATNC2bVs1bdpUXbt21cSJE1WtWjUdO3ZMX375pbp27aro6GgNHTpUvXr1UnR0tJo3b6758+drz549V1xsGRAQoJEjR+rpp5+Wn5+fbrnlFv3+++/as2eP+vXrp1KlSqlQoUJavny5brrpJgUEBCg4OFhjxozRkCFDFBQUpJiYGGVkZGjr1q06deqUhg0bpp49e2r06NHq16+fnnvuOR06dEj/+9//CvR9K1eurKysLE2bNk2dO3fWd999p4SEhFz1fH199cQTT2jq1Kny9fXV448/riZNmtgTixdeeEF33HGHypcvr/vuu09eXl7auXOndu3apXHjxuVq77XXXlNYWJiioqLk5eWlDz/8UGXKlDHl4CsAzmH7J2ACm82mL7/8Urfeeqv69u2rqlWrqkePHjp06JBKly4tSerevbteeOEFjRw5Ug0aNNDhw4f12GOPXbXd559/XsOHD9cLL7ygGjVqqHv37kpLS5N0af3B1KlT9dZbb6ls2bLq0qWLJKl///56++23lZiYqNq1a6tly5ZKTEy0bxctUqSIPvvsM+3du1f16tXT6NGjNXHixAJ936ioKE2ePFkTJ05UrVq1NH/+/Dy3YQYGBmrkyJHq2bOnmjZtqkKFCmnhwoX2+x06dNDnn3+ulStXqmHDhmrSpIkmT56sChUq5NlvkSJFNHHiREVHR6thw4Y6dOiQvvzyS/uoCIDrz2aYMWEKAAD+k0jjAQCA00gkAACA00gkAACA00gkAACA00gkAACA00gkAACA00gkAACA00gkAACA00gkAACA00gkAACA00gkAACA00gkAACA0/4PSQrb83g2RlQAAAAASUVORK5CYII=",
      "text/plain": [
       "<Figure size 640x480 with 2 Axes>"
      ]
     },
     "metadata": {},
     "output_type": "display_data"
    }
   ],
   "source": [
    "yhat=logreg_cv.predict(X_test)\n",
    "plot_confusion_matrix(y_test,yhat)"
   ]
  },
  {
   "cell_type": "markdown",
   "metadata": {},
   "source": [
    "## TASK  6\n"
   ]
  },
  {
   "cell_type": "code",
   "execution_count": 34,
   "metadata": {},
   "outputs": [
    {
     "name": "stdout",
     "output_type": "stream",
     "text": [
      "tuned hpyerparameters :(best parameters)  {'C': 1.0, 'gamma': 0.03162277660168379, 'kernel': 'sigmoid'}\n",
      "accuracy : 0.832142857142857\n"
     ]
    }
   ],
   "source": [
    "svm =  SVC()\n",
    "\n",
    "parameters = {'kernel':('linear', 'rbf','poly','rbf', 'sigmoid'),\n",
    "              'C': np.logspace(-3, 3, 5),\n",
    "              'gamma':np.logspace(-3, 3, 5)}\n",
    "\n",
    "svm_cv = GridSearchCV(svm, parameters, cv=10)\n",
    "\n",
    "svm_cv.fit(X_train, y_train)\n",
    "\n",
    "print(\"tuned hpyerparameters :(best parameters) \",svm_cv.best_params_)\n",
    "print(\"accuracy :\",svm_cv.best_score_)"
   ]
  },
  {
   "cell_type": "markdown",
   "metadata": {},
   "source": [
    "## TASK  7\n"
   ]
  },
  {
   "cell_type": "code",
   "execution_count": 35,
   "metadata": {},
   "outputs": [],
   "source": [
    "svm_s = svm_cv.score(X_test,y_test)"
   ]
  },
  {
   "cell_type": "code",
   "execution_count": 36,
   "metadata": {},
   "outputs": [
    {
     "data": {
      "image/png": "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",
      "text/plain": [
       "<Figure size 640x480 with 2 Axes>"
      ]
     },
     "metadata": {},
     "output_type": "display_data"
    }
   ],
   "source": [
    "yhat=svm_cv.predict(X_test)\n",
    "plot_confusion_matrix(y_test,yhat)"
   ]
  },
  {
   "cell_type": "markdown",
   "metadata": {},
   "source": [
    "## TASK  8\n"
   ]
  },
  {
   "cell_type": "code",
   "execution_count": 37,
   "metadata": {},
   "outputs": [
    {
     "name": "stdout",
     "output_type": "stream",
     "text": [
      "tuned hpyerparameters :(best parameters)  {'criterion': 'gini', 'max_depth': 16, 'max_features': 'sqrt', 'min_samples_leaf': 2, 'min_samples_split': 10, 'splitter': 'random'}\n",
      "accuracy : 0.875\n"
     ]
    },
    {
     "name": "stderr",
     "output_type": "stream",
     "text": 
      "  warnings.warn(\n",
      "c:\\Users\\vasil\\anaconda3\\Lib\\site-packages\\sklearn\\model_selection\\_search.py:979: UserWarning: One or more of the test scores are non-finite: [       nan        nan        nan        nan        nan        nan\n",
      "        nan        nan        nan        nan        nan        nan\n",
      "        nan        nan        nan        nan        nan        nan\n",
      "        nan        nan 0.71964286 0.66785714 0.65178571 0.69285714\n",
      " 0.79107143 0.65357143 0.76428571 0.65357143 0.79107143 0.63928571\n",
      " 0.80357143 0.65357143 0.775      0.63928571 0.83035714 0.63928571\n",
      " 0.77678571 0.63928571 0.80357143 0.63928571 0.71964286 0.66785714\n",
      " 0.65178571 0.69285714 0.79107143 0.65357143 0.76428571 0.65357143\n",
      " 0.79107143 0.63928571 0.80357143 0.65357143 0.775      0.63928571\n",
      " 0.83035714 0.63928571 0.77678571 0.63928571 0.80357143 0.63928571\n",
      "        nan        nan        nan        nan        nan        nan\n",
      "        nan        nan        nan        nan        nan        nan\n",
      "        nan        nan        nan        nan        nan        nan\n",
      "        nan        nan]\n",
      "  warnings.warn(\n"
     ]
    }
   ],
   "source": [
    "parameters = {'n_neighbors': [1, 2, 3, 4, 5, 6, 7, 8, 9, 10],\n",
    "              'algorithm': ['auto', 'ball_tree', 'kd_tree', 'brute'],\n",
    "              'p': [1,2]}\n",
    "\n",
    "KNN = KNeighborsClassifier()\n",
    "KNN_cv = GridSearchCV(KNN,parameters,cv=10)\n",
    "KNN_cv.fit(X_train,y_train)\n",
    "print(\"tuned hpyerparameters :(best parameters) \",KNN_cv.best_params_)\n",
    "print(\"accuracy :\",KNN_cv.best_score_)"
   ]
  },
  {
   "cell_type": "markdown",
   "metadata": {},
   "source": [
    "## TASK  11\n"
   ]
  },
  {
   "cell_type": "code",
   "execution_count": 41,
   "metadata": {},
   "outputs": [],
   "source": [
    "knn_s = KNN_cv.score(X_test,y_test)"
   ]
  },
  {
   "cell_type": "code",
   "execution_count": 42,
   "metadata": {},
   "outputs": [
    {
     "data": {
      "image/png": "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",
      "text/plain": [
       "<Figure size 640x480 with 2 Axes>"
      ]
     },
     "metadata": {},
     "output_type": "display_data"
    }
   ],
   "source": [
    "yhat = KNN_cv.predict(X_test)\n",
    "plot_confusion_matrix(y_test,yhat)"
   ]
  },
  {
   "cell_type": "code",
   "execution_count": 46,
   "metadata": {},
   "outputs": [],
   "source": [
    "scores = {'LogisticRegration':lr_s, 'SVC':svm_s, 'Tree':tree_s, 'KNN':knn_s}"
   ]
  },
  {
   "cell_type": "code",
   "execution_count": 49,
   "metadata": {},
   "outputs": [
    {
     "data": {
      "text/plain": [
       "Text(0.5, 1.0, 'The classification methods accuracy')"
      ]
     },
     "execution_count": 49,
     "metadata": {},
     "output_type": "execute_result"
    },
    {
     "data": {
      "image/png": "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",
      "text/plain": [
       "<Figure size 640x480 with 1 Axes>"
      ]
     },
     "metadata": {},
     "output_type": "display_data"
    }
   ],
   "source": [
    "sns.barplot(scores)\n",
    "plt.xlabel('Classifiers')\n",
    "plt.ylabel('Scores')\n",
    "plt.title('The classification methods accuracy')"
   ]
  },
  {
   "cell_type": "code",
   "execution_count": null,
   "metadata": {},
   "outputs": [],
   "source": []
  }
 ],
 "metadata": {
  "kernelspec": {
   "display_name": "Python 3",
   "language": "python",
   "name": "python3"
  },
  "language_info": {
   "codemirror_mode": {
    "name": "ipython",
    "version": 3
   },
   "file_extension": ".py",
   "mimetype": "text/x-python",
   "name": "python",
   "nbconvert_exporter": "python",
   "pygments_lexer": "ipython3",
   "version": "3.11.4"
  }
 },
 "nbformat": 4,
 "nbformat_minor": 2
}
